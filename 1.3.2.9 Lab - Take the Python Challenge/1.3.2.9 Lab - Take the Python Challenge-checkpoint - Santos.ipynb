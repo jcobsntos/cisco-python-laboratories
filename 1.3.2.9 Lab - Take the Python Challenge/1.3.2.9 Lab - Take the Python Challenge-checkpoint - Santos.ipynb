{
 "cells": [
  {
   "cell_type": "markdown",
   "metadata": {},
   "source": [
    "![Title](Images/cisco.png)"
   ]
  },
  {
   "cell_type": "markdown",
   "metadata": {},
   "source": [
    "# Lab - Take the Python Challenge \n",
    "\n",
    "\n",
    "This is an optional exercise to test your understanding of Python basics. However, we strongly suggest the student to complete these exercises to prepare yourself for the rest of this course. If you don't know how to solve them, look into the Python Lectures available in the Course Materials/Tutorials and Demos folder."
   ]
  },
  {
   "cell_type": "markdown",
   "metadata": {},
   "source": [
    "#### Answer the questions or complete the tasks outlined below, use the specific method described if applicable."
   ]
  },
  {
   "cell_type": "markdown",
   "metadata": {},
   "source": [
    "#### 1) What is 3 to the power of 5?"
   ]
  },
  {
   "cell_type": "code",
   "execution_count": 1,
   "metadata": {
    "collapsed": false,
    "jupyter": {
     "outputs_hidden": false
    }
   },
   "outputs": [
    {
     "name": "stdout",
     "output_type": "stream",
     "text": [
      "3 to the power of 5 is: 243\n"
     ]
    }
   ],
   "source": [
    "# Code cell 1\n",
    "result = 3 ** 5\n",
    "print(\"3 to the power of 5 is:\", result)"
   ]
  },
  {
   "cell_type": "markdown",
   "metadata": {},
   "source": [
    "#### 2) Create a variable, *`s`*, containing the string \"This course is amazing!\". Using the variable, split the string into a list."
   ]
  },
  {
   "cell_type": "code",
   "execution_count": 2,
   "metadata": {
    "collapsed": false,
    "jupyter": {
     "outputs_hidden": false
    }
   },
   "outputs": [
    {
     "name": "stdout",
     "output_type": "stream",
     "text": [
      "['This', 'course', 'is', 'amazing!']\n"
     ]
    }
   ],
   "source": [
    "# Code cell 2\n",
    "#s = ?\n",
    "#?.split()\n",
    "s = \"This course is amazing!\"\n",
    "course_list = s.split()\n",
    "print(course_list)"
   ]
  },
  {
   "cell_type": "markdown",
   "metadata": {},
   "source": [
    "#### 3) Given the variables height and mountain, use .format() to print the following string:\n",
    "<center>`The height of Mt. Everest is 8848 meters.`</center>"
   ]
  },
  {
   "cell_type": "code",
   "execution_count": 3,
   "metadata": {
    "collapsed": false,
    "jupyter": {
     "outputs_hidden": false
    }
   },
   "outputs": [
    {
     "name": "stdout",
     "output_type": "stream",
     "text": [
      "The height of Mt. Everest is 8848 meters.\n"
     ]
    }
   ],
   "source": [
    "# Code cell 3\n",
    "mountain = \"Mt. Everest\"\n",
    "height = 8848\n",
    "#print(\"...\".format( ? , ? ))\n",
    "print(\"The height of {} is {} meters.\".format(mountain, height))"
   ]
  },
  {
   "cell_type": "markdown",
   "metadata": {},
   "source": [
    "#### 4) Given the following nested list, use indexing to grab the word `\"this\"`."
   ]
  },
  {
   "cell_type": "code",
   "execution_count": 4,
   "metadata": {
    "collapsed": false,
    "jupyter": {
     "outputs_hidden": false
    }
   },
   "outputs": [
    {
     "name": "stdout",
     "output_type": "stream",
     "text": [
      "this\n"
     ]
    }
   ],
   "source": [
    "# Code cell 4\n",
    "lst = ['a','b',[4,10,11],['c',[1,66,['this']],2,111],'e',7]\n",
    "#lst[?][?][?][?]\n",
    "word = lst[3][1][2][0]\n",
    "print(word)"
   ]
  },
  {
   "cell_type": "markdown",
   "metadata": {},
   "source": [
    "#### 5) Given the following nested dictionary, grab the word \"that\". This exercise is a little more difficult."
   ]
  },
  {
   "cell_type": "code",
   "execution_count": 5,
   "metadata": {
    "collapsed": false,
    "jupyter": {
     "outputs_hidden": false
    }
   },
   "outputs": [
    {
     "name": "stdout",
     "output_type": "stream",
     "text": [
      "that\n"
     ]
    }
   ],
   "source": [
    "# Code cell 5\n",
    "d = {'k1':['val1','val2','val3',{'we':['need','to','go',{'deeper':[1,2,3,'that']}]}]}\n",
    "#d[?][?][?][?][?][?]\n",
    "\n",
    "word = d['k1'][3]['we'][3]['deeper'][3]\n",
    "print(word)\n"
   ]
  },
  {
   "cell_type": "markdown",
   "metadata": {},
   "source": [
    "#### 6) What is the main difference between a tuple and a list? "
   ]
  },
  {
   "cell_type": "markdown",
   "metadata": {
    "collapsed": true,
    "jupyter": {
     "outputs_hidden": true
    }
   },
   "source": [
    "The main difference between a tuple and a list is that tuples are immutable while lists are mutable.This means that once you create a tuple, you can't change its contents—you can't add, remove, or modify elements within it. On the other hand, a list is flexible; you can change the contents of a list by adding, removing, or altering its elements as needed."
   ]
  },
  {
   "cell_type": "markdown",
   "metadata": {},
   "source": [
    "#### 7) Create a function, GetDomain(), that grabs the email website domain from a string in the form:  `user@domain.com`.\n",
    "So for example, passing \"user@domain.com\" would return: domain.com"
   ]
  },
  {
   "cell_type": "code",
   "execution_count": 6,
   "metadata": {
    "collapsed": false,
    "jupyter": {
     "outputs_hidden": false
    }
   },
   "outputs": [
    {
     "name": "stdout",
     "output_type": "stream",
     "text": [
      "domain.com\n"
     ]
    }
   ],
   "source": [
    "# Code cell 6\n",
    "#def GetDomain(?):\n",
    "#    return ?.?()[-1]\n",
    "def GetDomain(email):\n",
    "    return email.split('@')[-1]\n",
    "domain = GetDomain('user@domain.com')\n",
    "print(domain)"
   ]
  },
  {
   "cell_type": "markdown",
   "metadata": {},
   "source": [
    "#### 8) Create a basic function, findInternet(), that returns True if the word 'Internet' is contained in the input string. Don't worry about edge cases like punctuation being attached to the word, but account for capitalization. (Hint: Please see https://docs.python.org/2/reference/expressions.html#in)"
   ]
  },
  {
   "cell_type": "code",
   "execution_count": 7,
   "metadata": {
    "collapsed": false,
    "jupyter": {
     "outputs_hidden": false
    }
   },
   "outputs": [
    {
     "name": "stdout",
     "output_type": "stream",
     "text": [
      "True\n"
     ]
    }
   ],
   "source": [
    "# Code cell 7\n",
    "#def findInternet(?):\n",
    "    #return 'internet' in ?.lower()\n",
    "def findInternet(text):\n",
    "    return 'internet' in text.lower().split()\n",
    "result = findInternet('The Internet Engineering Task Force was created in 1986')\n",
    "print(result)\n"
   ]
  },
  {
   "cell_type": "markdown",
   "metadata": {},
   "source": [
    "#### 9) Create a function, countIoT(), that counts the number of times the word \"IoT\" occurs in a string.  Ignore edge cases but take into account capitalization."
   ]
  },
  {
   "cell_type": "code",
   "execution_count": 8,
   "metadata": {
    "collapsed": false,
    "jupyter": {
     "outputs_hidden": false
    }
   },
   "outputs": [
    {
     "name": "stdout",
     "output_type": "stream",
     "text": [
      "2\n"
     ]
    }
   ],
   "source": [
    "# Code cell 8\n",
    "#def countIoT(st):\n",
    "#    \n",
    "#\n",
    "#\n",
    "#\n",
    "#    return count\n",
    "def countIoT(st):\n",
    "    words = st.split()\n",
    "    count = 0\n",
    "    for word in words:\n",
    "        if word.lower() == 'iot':\n",
    "            count += 1  \n",
    "    return count\n",
    "\n",
    "result = countIoT(\"I don't know how to spell IoT! Is it IoT or iot? What does iot mean anyway?\")\n",
    "print(result)"
   ]
  },
  {
   "cell_type": "markdown",
   "metadata": {},
   "source": [
    "#### 10) Use lambda expressions and the filter() function to filter out words from a list that do not start with the letter 'd'. For example:\n",
    "\n",
    "    seq = ['data','salt' ,'dairy','cat', 'dog']\n",
    "\n",
    "should be filtered down to:\n",
    "\n",
    "    ['data', 'dairy', 'dog']"
   ]
  },
  {
   "cell_type": "code",
   "execution_count": 9,
   "metadata": {
    "collapsed": false,
    "jupyter": {
     "outputs_hidden": false
    }
   },
   "outputs": [
    {
     "name": "stdout",
     "output_type": "stream",
     "text": [
      "['data', 'dairy', 'dog']\n"
     ]
    }
   ],
   "source": [
    "# Code cell 9\n",
    "seq = ['data','salt' ,'dairy','cat', 'dog']\n",
    "#list(filter(...))\n",
    "filtered_list = list(filter(lambda word: word.startswith('d'), seq))\n",
    "print(filtered_list)"
   ]
  },
  {
   "cell_type": "markdown",
   "metadata": {},
   "source": [
    "#### 11) Use  lambda expressions and the map() function to convert a list of words to upper case. For example:"
   ]
  },
  {
   "cell_type": "markdown",
   "metadata": {},
   "source": [
    "seq = ['data','salt' ,'dairy','cat', 'dog']\n",
    "\n",
    "should become:\n",
    "\n",
    "   ['DATA', 'SALT', 'DAIRY', 'CAT', 'DOG']"
   ]
  },
  {
   "cell_type": "code",
   "execution_count": 10,
   "metadata": {
    "collapsed": false,
    "jupyter": {
     "outputs_hidden": false
    }
   },
   "outputs": [
    {
     "name": "stdout",
     "output_type": "stream",
     "text": [
      "['DATA', 'SALT', 'DAIRY', 'CAT', 'DOG']\n"
     ]
    }
   ],
   "source": [
    "# Code cell 10\n",
    "seq = ['data','salt' ,'dairy','cat', 'dog']\n",
    "#list(map())\n",
    "upper_list = list(map(lambda word: word.upper(), seq))\n",
    "print(upper_list)"
   ]
  },
  {
   "cell_type": "markdown",
   "metadata": {},
   "source": [
    "#### 12) Imagine a smart thermostat that is connected to the door, so that it can detect, in addition to the temperature, when people enter or leave the house. \n",
    "Write a function that, if the temperature is lower than 20 degrees Celsius, and there are people in the house (encoded as a boolean value to be passed as a parameter to the function), turns on the heating by returning the string \"Heating on\". When the temperature reaches 23 degrees or there are no people in the house, it returns the string \"Heating off\". When none of these conditions are met, the function returns \"Do nothing\"."
   ]
  },
  {
   "cell_type": "code",
   "execution_count": 11,
   "metadata": {},
   "outputs": [
    {
     "name": "stdout",
     "output_type": "stream",
     "text": [
      "Heating on\n",
      "Heating off\n",
      "Do nothing\n"
     ]
    }
   ],
   "source": [
    "# Code cell 11\n",
    "#def smart_thermostat(temp, people_in):\n",
    "#    ...\n",
    "#    return command\n",
    "def smart_thermostat(temp, people_in):\n",
    "    if temp < 20 and people_in:\n",
    "        return \"Heating on\"\n",
    "    elif temp >= 23 or not people_in:\n",
    "        return \"Heating off\"\n",
    "    else:\n",
    "        return \"Do nothing\"\n",
    "\n",
    "command = smart_thermostat(19, True)\n",
    "print(command)  # \"Heating on\"\n",
    "\n",
    "command = smart_thermostat(24, False)\n",
    "print(command)  # \"Heating off\"\n",
    "\n",
    "command = smart_thermostat(21, True)\n",
    "print(command)  #\"Do nothing\""
   ]
  },
  {
   "cell_type": "code",
   "execution_count": 12,
   "metadata": {
    "collapsed": false,
    "jupyter": {
     "outputs_hidden": false
    }
   },
   "outputs": [
    {
     "data": {
      "text/plain": [
       "'Do nothing'"
      ]
     },
     "execution_count": 12,
     "metadata": {},
     "output_type": "execute_result"
    }
   ],
   "source": [
    "# Code cell 12\n",
    "# Verify smart_thermostat()\n",
    "smart_thermostat(21,True)"
   ]
  },
  {
   "cell_type": "code",
   "execution_count": 13,
   "metadata": {
    "collapsed": false,
    "jupyter": {
     "outputs_hidden": false
    }
   },
   "outputs": [
    {
     "data": {
      "text/plain": [
       "'Heating off'"
      ]
     },
     "execution_count": 13,
     "metadata": {},
     "output_type": "execute_result"
    }
   ],
   "source": [
    "# Code cell 13\n",
    "# Verify smart_thermostat()\n",
    "smart_thermostat(21,False)"
   ]
  },
  {
   "cell_type": "markdown",
   "metadata": {},
   "source": [
    "#### 13)  The function zip(list1, list2) returns a list of tuples, where the i-th tuple contains the i-th element from each of the argument lists. Use the zip function to create the following list of tuples:"
   ]
  },
  {
   "cell_type": "markdown",
   "metadata": {},
   "source": [
    "`zipped = [('Parking', -1), ('Shops',0), ('Food Court',1), ('Offices',2)]`"
   ]
  },
  {
   "cell_type": "code",
   "execution_count": 14,
   "metadata": {
    "collapsed": false,
    "jupyter": {
     "outputs_hidden": false
    }
   },
   "outputs": [
    {
     "name": "stdout",
     "output_type": "stream",
     "text": [
      "[('Parking', -1), ('Shops', 0), ('Food Court', 1), ('Offices', 2)]\n"
     ]
    }
   ],
   "source": [
    "# Code cell 14\n",
    "floor_types = ['Parking', 'Shops', 'Food Court', 'Offices']\n",
    "floor_numbers = range(-1,3)\n",
    "#zipped = list(...) \n",
    "zipped = list(zip(floor_types, floor_numbers))\n",
    "print(zipped)"
   ]
  },
  {
   "cell_type": "markdown",
   "metadata": {},
   "source": [
    "#### 14) Use the zip function and dict() to create a dictionary, elevator_dict, where the keys are the floor types and the values are the corresponding floor number so that:\n",
    "elevator_dict[-1] = 'Parking'"
   ]
  },
  {
   "cell_type": "code",
   "execution_count": 15,
   "metadata": {
    "collapsed": false,
    "jupyter": {
     "outputs_hidden": false
    }
   },
   "outputs": [
    {
     "name": "stdout",
     "output_type": "stream",
     "text": [
      "{-1: 'Parking', 0: 'Shops', 1: 'Food Court', 2: 'Offices'}\n"
     ]
    }
   ],
   "source": [
    "# Code cell 15\n",
    "floor_types = ['Parking', 'Shops', 'Food Court', 'Offices']\n",
    "floors_numbers = range(-1,3)\n",
    "#elevator_dict = dict(...)\n",
    "elevator_dict = dict(zip(floors_numbers, floor_types))\n",
    "print(elevator_dict)"
   ]
  },
  {
   "cell_type": "code",
   "execution_count": 16,
   "metadata": {
    "collapsed": false,
    "jupyter": {
     "outputs_hidden": false
    }
   },
   "outputs": [
    {
     "data": {
      "text/plain": [
       "'Parking'"
      ]
     },
     "execution_count": 16,
     "metadata": {},
     "output_type": "execute_result"
    }
   ],
   "source": [
    "# Code cell 16\n",
    "# Verify elevator_dict[-1]\n",
    "elevator_dict[-1]"
   ]
  },
  {
   "cell_type": "markdown",
   "metadata": {},
   "source": [
    "#### 15) Create an `Elevator` class. The constructor accepts the list of strings `floor_types` and the list of integers `floor_numbers`. The class implemets the methods 'ask_which_floor'  and 'go_to_floor'. The output of this methods should look as follows:\n",
    "`floor_types = ['Parking', 'Shops', 'Food Court', 'Offices']\n",
    "floors_numbers = range(-1,4)\n",
    "\n",
    "el = Elevator(floor_numbers, floor_types)\n",
    "\n",
    "el.go_to_floor(1)`\n",
    "\n",
    "`Going to Food Court floor!`\n",
    "\n",
    "`el.go_to_floor(-2)`\n",
    "\n",
    "`There is floor number -2 in this building.`\n",
    "\n",
    "`el.ask_which_floor('Offices')`\n",
    "\n",
    "`The floor Offices is the number: 2`\n",
    "\n",
    "`el.ask_which_floor('Swimming Pool')`\n",
    "\n",
    "`There is no Swimming Pool floor in this building.`"
   ]
  },
  {
   "cell_type": "code",
   "execution_count": 17,
   "metadata": {},
   "outputs": [
    {
     "name": "stdout",
     "output_type": "stream",
     "text": [
      "Going to Food Court floor!\n",
      "There is no floor number -2 in this building.\n",
      "The Offices floor is the number: 2.\n",
      "There is no Swimming Pool floor in this building.\n"
     ]
    }
   ],
   "source": [
    "# Code cell 17\n",
    "class Elevator:\n",
    "    \n",
    "    def __init__(self, floor_numbers, floor_types):\n",
    "        self._floor_numbers = floor_numbers\n",
    "        self._floor_types = floor_types\n",
    "        self._number_to_type_dict = dict(zip(floor_numbers, floor_types)) \n",
    "        self._type_to_number_dict = dict(zip(floor_types, floor_numbers)) \n",
    "        \n",
    "    def ask_which_floor(self, floor_type):    \n",
    "        if floor_type in self._floor_types:\n",
    "            print('The {} floor is the number: {}.'.format(floor_type, self._type_to_number_dict[floor_type]))\n",
    "        else:\n",
    "            print('There is no {} floor in this building.'.format(floor_type))\n",
    "    \n",
    "    #def go_to_floor(self, floor_number):\n",
    "    \n",
    "    def go_to_floor(self, floor_number):\n",
    "        if floor_number in self._floor_numbers:\n",
    "            print('Going to {} floor!'.format(self._number_to_type_dict[floor_number]))\n",
    "        else:\n",
    "            print('There is no floor number {} in this building.'.format(floor_number))\n",
    "\n",
    "floor_types = ['Parking', 'Shops', 'Food Court', 'Offices']\n",
    "floor_numbers = range(-1, 3)\n",
    "\n",
    "el = Elevator(floor_numbers, floor_types)\n",
    "\n",
    "el.go_to_floor(1)  # Going to Food Court floor!\n",
    "el.go_to_floor(-2)  # There is no floor number -2 in this building.\n",
    "\n",
    "el.ask_which_floor('Offices')  # The floor Offices is the number: 2\n",
    "el.ask_which_floor('Swimming Pool')  # There is no Swimming Pool floor in this building.\n",
    "    "
   ]
  },
  {
   "cell_type": "code",
   "execution_count": 18,
   "metadata": {
    "collapsed": false,
    "jupyter": {
     "outputs_hidden": false
    }
   },
   "outputs": [
    {
     "name": "stdout",
     "output_type": "stream",
     "text": [
      "Going to Food Court floor!\n"
     ]
    }
   ],
   "source": [
    "# Verify code cell 18\n",
    "el = Elevator(floor_numbers, floor_types)\n",
    "el.go_to_floor(1)"
   ]
  },
  {
   "cell_type": "code",
   "execution_count": 19,
   "metadata": {
    "collapsed": false,
    "jupyter": {
     "outputs_hidden": false
    }
   },
   "outputs": [
    {
     "name": "stdout",
     "output_type": "stream",
     "text": [
      "There is no floor number -2 in this building.\n"
     ]
    }
   ],
   "source": [
    "# Verify code cell 19\n",
    "el.go_to_floor(-2)"
   ]
  },
  {
   "cell_type": "code",
   "execution_count": 20,
   "metadata": {
    "collapsed": false,
    "jupyter": {
     "outputs_hidden": false
    },
    "scrolled": true
   },
   "outputs": [
    {
     "name": "stdout",
     "output_type": "stream",
     "text": [
      "The Offices floor is the number: 2.\n"
     ]
    }
   ],
   "source": [
    "# Verify code cell 20\n",
    "el.ask_which_floor('Offices')"
   ]
  },
  {
   "cell_type": "code",
   "execution_count": 21,
   "metadata": {
    "collapsed": false,
    "jupyter": {
     "outputs_hidden": false
    }
   },
   "outputs": [
    {
     "name": "stdout",
     "output_type": "stream",
     "text": [
      "There is no Swimming Pool floor in this building.\n"
     ]
    }
   ],
   "source": [
    "# Verify code cell 21\n",
    "el.ask_which_floor('Swimming Pool')"
   ]
  },
  {
   "cell_type": "markdown",
   "metadata": {},
   "source": [
    "# Great job!"
   ]
  },
  {
   "cell_type": "markdown",
   "metadata": {
    "collapsed": true,
    "jupyter": {
     "outputs_hidden": true
    }
   },
   "source": [
    "<font size='0.5'>&copy; 2017 Cisco and/or its affiliates. All rights reserved. This document is Cisco Public.<font>"
   ]
  }
 ],
 "metadata": {
  "anaconda-cloud": {},
  "kernelspec": {
   "display_name": "Python 3 (ipykernel)",
   "language": "python",
   "name": "python3"
  },
  "language_info": {
   "codemirror_mode": {
    "name": "ipython",
    "version": 3
   },
   "file_extension": ".py",
   "mimetype": "text/x-python",
   "name": "python",
   "nbconvert_exporter": "python",
   "pygments_lexer": "ipython3",
   "version": "3.10.7"
  }
 },
 "nbformat": 4,
 "nbformat_minor": 4
}
