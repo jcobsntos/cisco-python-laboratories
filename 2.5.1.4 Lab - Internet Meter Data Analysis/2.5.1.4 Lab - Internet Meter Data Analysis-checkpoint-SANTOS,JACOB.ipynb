{
 "cells": [
  {
   "cell_type": "markdown",
   "metadata": {},
   "source": [
    "![Title](Images/cisco.png)"
   ]
  },
  {
   "cell_type": "markdown",
   "metadata": {},
   "source": [
    "# Lab - Internet Meter Data Analysis "
   ]
  },
  {
   "cell_type": "markdown",
   "metadata": {},
   "source": [
    "### Objectives\n",
    "<li>**Part 1: Collect and Store Data**</li>\n",
    "<li>**Part 2: Manipulate Data**</li>\n",
    "### Scenario/Background\n",
    "In this lab, you will acquire Internet speed statistics and store the live data in a comma separated values (csv) file. You will also load the stored data from the csv file to a Python data structure, the Pandas `DataFrame`, and use its functionalities to explore the data and manipulate it so that it is easily readable.\n",
    "### Required Resources\n",
    "* 1 PC with Internet access\n",
    "* Raspberry Pi version 2 or higher\n",
    "* Python libraries: datetime, csv, subprocess, pandas, numpy\n",
    "* Datafiles: rpi_data_long.csv"
   ]
  },
  {
   "cell_type": "markdown",
   "metadata": {},
   "source": [
    "## Part 1: Collect and Store Data\n",
    "<p>The goal of this first part of the lab is to gather internet speed measurements through the Raspberry Pi. Three kinds of measurements will be collected:\n",
    "1. Ping speed\n",
    "2. Download speed\n",
    "3. Upload speed"
   ]
  },
  {
   "cell_type": "markdown",
   "metadata": {},
   "source": [
    "#### Step 1: Install Speedtest and Import Python Libraries.\n",
    "In this step, you will install Speedtest and import Python libraries.\n",
    "<p>Speedtest-cli is a Python script that measures the upload and download speed of your Internet connection. For more information about speedtest, go to https://github.com/sivel/speedtest-cli."
   ]
  },
  {
   "cell_type": "markdown",
   "metadata": {},
   "source": [
    "a) Install `speedtest-cli`."
   ]
  },
  {
   "cell_type": "code",
   "execution_count": 1,
   "metadata": {},
   "outputs": [
    {
     "name": "stdout",
     "output_type": "stream",
     "text": [
      "Requirement already satisfied: speedtest-cli in c:\\users\\jacob\\appdata\\local\\programs\\python\\python310\\lib\\site-packages (2.1.3)\n"
     ]
    },
    {
     "name": "stderr",
     "output_type": "stream",
     "text": [
      "\n",
      "[notice] A new release of pip available: 22.2.2 -> 24.2\n",
      "[notice] To update, run: python.exe -m pip install --upgrade pip\n"
     ]
    }
   ],
   "source": [
    "# Code cell 1\n",
    "!pip install speedtest-cli"
   ]
  },
  {
   "cell_type": "markdown",
   "metadata": {},
   "source": [
    "This cli allows the Jupyter notebook to connect to the website and store the data."
   ]
  },
  {
   "cell_type": "markdown",
   "metadata": {},
   "source": [
    "b) Import the necessary Python libraries."
   ]
  },
  {
   "cell_type": "code",
   "execution_count": 2,
   "metadata": {},
   "outputs": [],
   "source": [
    "# Code cell 2\n",
    "# Python library to manage date and time data\n",
    "import datetime\n",
    "# Python library to read and write csv files\n",
    "import csv\n",
    "# Python library to execute bash commands from the notebook.\n",
    "# If you want to know more about this, check this resource: \n",
    "# http://www.pythonforbeginners.com/os/subprocess-for-system-administrators\n",
    "import subprocess"
   ]
  },
  {
   "cell_type": "markdown",
   "metadata": {},
   "source": [
    "#### Step 2: Generate timestamps using the `datetime` package.\n",
    "In this lab, measurements of Internet speed statistics will be generated. A crucial step in data acquisition for the majority of data analytics applications, is to associate a timestamp to measurements. "
   ]
  },
  {
   "cell_type": "markdown",
   "metadata": {},
   "source": [
    "a) To generate a timestamp, use the `datetime.now` function of the `datetime` package: "
   ]
  },
  {
   "cell_type": "code",
   "execution_count": 3,
   "metadata": {},
   "outputs": [
    {
     "name": "stdout",
     "output_type": "stream",
     "text": [
      "2024-09-11 21:58:42.171455 <class 'datetime.datetime'>\n"
     ]
    }
   ],
   "source": [
    "# Code cell 3\n",
    "date_time = datetime.datetime.now()\n",
    "print(date_time, type(date_time))"
   ]
  },
  {
   "cell_type": "markdown",
   "metadata": {},
   "source": [
    "b) An instance of the class `datetime` cannot be directly written to in text form. The function `strftime` parses the date information into a string. The arguments of this function determine the format of the output sting. A description of these parameters can be found in the documentation of the `strftime` function at https://docs.python.org/2/library/time.html. "
   ]
  },
  {
   "cell_type": "code",
   "execution_count": 4,
   "metadata": {},
   "outputs": [
    {
     "data": {
      "text/plain": [
       "'Wed, 11 Sep 2024 21:58:42'"
      ]
     },
     "execution_count": 4,
     "metadata": {},
     "output_type": "execute_result"
    }
   ],
   "source": [
    "# Code cell 4\n",
    "date_time.strftime('%a, %d %b %Y %H:%M:%S')"
   ]
  },
  {
   "cell_type": "markdown",
   "metadata": {},
   "source": [
    "After reading the documentation of the `strftime` function, generate a timestamp and parse it into a string with the following format: YYYY-MM-DD HH:MM:SS."
   ]
  },
  {
   "cell_type": "code",
   "execution_count": 5,
   "metadata": {},
   "outputs": [
    {
     "data": {
      "text/plain": [
       "'2024-09-11 21:58:42'"
      ]
     },
     "execution_count": 5,
     "metadata": {},
     "output_type": "execute_result"
    }
   ],
   "source": [
    "# Code cell 5\n",
    "date_time.strftime('%Y-%m-%d %H:%M:%S')\n"
   ]
  },
  {
   "cell_type": "markdown",
   "metadata": {},
   "source": [
    "#### Step 3: Run the process and collect the output with Python.\n",
    "\n",
    "The `speedtest-cli` command, if run from a terminal, returns a string with download and upload speeds. To run the command from this notebook, it is necessary to use the Python module `subprocess`, which allows running a process directly from the notebook code cell. "
   ]
  },
  {
   "cell_type": "markdown",
   "metadata": {},
   "source": [
    "a) Run a speed test using the `speedtest-cli` command from Python. The output will be stored in the process_output variable."
   ]
  },
  {
   "cell_type": "code",
   "execution_count": 6,
   "metadata": {},
   "outputs": [],
   "source": [
    "# Code cell 6\n",
    "# This string contains the command line to interface with speedtest.net\n",
    "speedtest_cmd = \"speedtest-cli --simple\"\n",
    "# Execute the process\n",
    "process = subprocess.Popen(speedtest_cmd.split(), stdout=subprocess.PIPE)\n",
    "# Collect the command output\n",
    "process_output = process.communicate()[0]"
   ]
  },
  {
   "cell_type": "markdown",
   "metadata": {},
   "source": [
    "b) Print the process output. Notice the type for the `process_output` variable."
   ]
  },
  {
   "cell_type": "code",
   "execution_count": 7,
   "metadata": {},
   "outputs": [
    {
     "name": "stdout",
     "output_type": "stream",
     "text": [
      "b'Ping: 6.255 ms\\r\\nDownload: 0.00 Mbit/s\\r\\nUpload: 235.81 Mbit/s\\r\\n' <class 'bytes'>\n"
     ]
    }
   ],
   "source": [
    "# Code cell 7\n",
    "print(process_output, type(process_output))"
   ]
  },
  {
   "cell_type": "markdown",
   "metadata": {},
   "source": [
    "c) The speed test result is split, and a timestamp is appended to the results."
   ]
  },
  {
   "cell_type": "code",
   "execution_count": 8,
   "metadata": {},
   "outputs": [
    {
     "name": "stdout",
     "output_type": "stream",
     "text": [
      "[b'Ping:', b'6.255', b'ms', b'Download:', b'0.00', b'Mbit/s', b'Upload:', b'235.81', b'Mbit/s', '2024-09-11 21:58:59'] <class 'list'>\n"
     ]
    }
   ],
   "source": [
    "# Code cell 8\n",
    "# Store the time at which the speedtest was executed\n",
    "date_time = datetime.datetime.now().strftime(\"%Y-%m-%d %H:%M:%S\")\n",
    "process_output = process_output.split()\n",
    "process_output.append(date_time)\n",
    "print(process_output, type(process_output))"
   ]
  },
  {
   "cell_type": "markdown",
   "metadata": {},
   "source": [
    "d) The speedtest() function is created to return the results from the speedtest-cli command."
   ]
  },
  {
   "cell_type": "code",
   "execution_count": 9,
   "metadata": {},
   "outputs": [],
   "source": [
    "# Code cell 9\n",
    "# function to excute the speed test\n",
    "def speedtest():\n",
    "    # We need to store the time at which the speedtest was executed\n",
    "    date_time = datetime.datetime.now().strftime(\"%Y-%m-%d %H:%M:%S\")\n",
    "    # This is a string that contains what we would write on the command line \n",
    "    #to interface with speedtest.net\n",
    "    speedtest_cmd = \"speedtest --simple\"\n",
    "    # We now execute the process: \n",
    "    process = subprocess.Popen(speedtest_cmd.split(), stdout=subprocess.PIPE)\n",
    "    process_output = process.communicate()[0]\n",
    "    process_output = process_output.split()\n",
    "    # and we add the date and time \n",
    "    process_output.append(date_time)\n",
    "    return process_output"
   ]
  },
  {
   "cell_type": "markdown",
   "metadata": {},
   "source": [
    "What does the speedtest() function return? What is the code to view results from the speedtest() function?"
   ]
  },
  {
   "cell_type": "markdown",
   "metadata": {},
   "source": [
    "The speedtest() function executes a speed test using the speedtest-cli tool, captures the output, and appends the current timestamp when the test was run. It uses the subprocess.Popen() method to run the speed test command and stores the output as a list of values, including ping, download speed, and upload speed. The final value in the list is a timestamp in the format YYYY-MM-DD HH:MM:SS, marking when the test occurred. To view the results of the function, you can call result = speedtest() and print the result list, which will display the speed test data (ping, download, upload) and the timestamp in a single list."
   ]
  },
  {
   "cell_type": "code",
   "execution_count": 10,
   "metadata": {},
   "outputs": [
    {
     "data": {
      "text/plain": [
       "[b'Ping:',\n",
       " b'6.255',\n",
       " b'ms',\n",
       " b'Download:',\n",
       " b'0.00',\n",
       " b'Mbit/s',\n",
       " b'Upload:',\n",
       " b'235.81',\n",
       " b'Mbit/s',\n",
       " '2024-09-11 21:58:59']"
      ]
     },
     "execution_count": 10,
     "metadata": {},
     "output_type": "execute_result"
    }
   ],
   "source": [
    "# Code cell 10 \n",
    "# Code to view the results from speedtest() function\n",
    "process_output"
   ]
  },
  {
   "cell_type": "markdown",
   "metadata": {},
   "source": [
    "#### Step 4: Store the output of the `speedtest()` function.\n",
    "\n",
    "The comma separated values (csv) is the most common import and export format for spreadsheets and databases. To learn more information about working with csv in Python, navigate to https://docs.python.org/2/library/csv.html."
   ]
  },
  {
   "cell_type": "markdown",
   "metadata": {},
   "source": [
    "a) Create a file named test.txt in the /tmp directory and write \"test_msg\" in the file."
   ]
  },
  {
   "cell_type": "code",
   "execution_count": 11,
   "metadata": {},
   "outputs": [],
   "source": [
    "# Code cell 11\n",
    "with open(\"./tmp/test.txt\",'w') as f:\n",
    "    f.write('test_msg')"
   ]
  },
  {
   "cell_type": "markdown",
   "metadata": {},
   "source": [
    "b) Use the Linux command `cat` to verify the creation and content of the file."
   ]
  },
  {
   "cell_type": "code",
   "execution_count": 12,
   "metadata": {},
   "outputs": [
    {
     "name": "stdout",
     "output_type": "stream",
     "text": [
      "test_msg\n"
     ]
    }
   ],
   "source": [
    "# Code cell 12\n",
    "# Python code to read the content of a file\n",
    "with open('./tmp/test.txt', 'r') as file:\n",
    "    content = file.read()\n",
    "    print(content)\n"
   ]
  },
  {
   "cell_type": "markdown",
   "metadata": {},
   "source": [
    "c) To check that the file was successfully open:"
   ]
  },
  {
   "cell_type": "code",
   "execution_count": 13,
   "metadata": {},
   "outputs": [
    {
     "name": "stdout",
     "output_type": "stream",
     "text": [
      "test_msg\n"
     ]
    }
   ],
   "source": [
    "# Code cell 13\n",
    "with open(\"./tmp/test.txt\",'r') as f:\n",
    "   str = f.read()\n",
    "print(str)"
   ]
  },
  {
   "cell_type": "markdown",
   "metadata": {},
   "source": [
    "d) Understanding the meaning of the `with` statement, especially in combination with `try` and `except` is not required for the rest of this lab, but a useful resource about this is http://effbot.org/zone/python-with-statement.htm.\n",
    "<p>\n",
    "To write into a `csv` file, it is necessary to create a `csv.writer` object. Check https://docs.python.org/2/library/csv.html and find out which function of the 'csv.writer' object can be used to add a row to a `csv` file."
   ]
  },
  {
   "cell_type": "code",
   "execution_count": 14,
   "metadata": {},
   "outputs": [],
   "source": [
    "# Code cell 14\n",
    "# function to save data to csv\n",
    "def save_to_csv(data, filename):\n",
    "    try:\n",
    "        # If the file exists, we want to append a new line to it, with the \n",
    "        #results of the current experiment\n",
    "        with open(filename + '.csv', 'a') as f:\n",
    "            wr = csv.writer(f)\n",
    "            wr.writerow(data)\n",
    "    except:\n",
    "        # If it does not exist, create the file first\n",
    "        with open(filename + '.csv', 'w') as f:\n",
    "            # Hint: This is similar to appending new lines to a file.\n",
    "            # Create a csv writer object\n",
    "            wr = csv.writer(f)\n",
    "            # Save (write) to file\n",
    "            wr.writerow(data)"
   ]
  },
  {
   "cell_type": "markdown",
   "metadata": {},
   "source": [
    "#### Step 5: Check the collected data.\n",
    "Write a function to open a csv file and print its content to screen. You can find an example in the 13.1.5 section of https://docs.python.org/2/library/csv.html"
   ]
  },
  {
   "cell_type": "code",
   "execution_count": 15,
   "metadata": {},
   "outputs": [],
   "source": [
    "# Code cell 15\n",
    "def print_from_csv(filename): \n",
    "    with open(filename + '.csv', 'r') as f:\n",
    "            re = csv.reader(f)\n",
    "            # 1. Loop over the rows\n",
    "            for row in re:\n",
    "            # 2. print\n",
    "                print(row)"
   ]
  },
  {
   "cell_type": "markdown",
   "metadata": {},
   "source": [
    "Now, all the functions needed to collect and store Internet speed data are finished.\n",
    "#### Step 6: Run the Speedtest multiple times and store the data.\n",
    "a) Write a `for` loop that calls the speedtest 5 times, prints the output of the tests, and stores the data in a csv file."
   ]
  },
  {
   "cell_type": "code",
   "execution_count": 16,
   "metadata": {},
   "outputs": [
    {
     "name": "stdout",
     "output_type": "stream",
     "text": [
      "Test number 0\n",
      "[b'Ping:', b'10.793', b'ms', b'Download:', b'295.77', b'Mbit/s', b'Upload:', b'291.18', b'Mbit/s', '2024-09-11 21:59:00']\n",
      "Test number 1\n",
      "[b'Ping:', b'7.57', b'ms', b'Download:', b'542.22', b'Mbit/s', b'Upload:', b'314.58', b'Mbit/s', '2024-09-11 21:59:15']\n",
      "Test number 2\n",
      "[b'Ping:', b'9.577', b'ms', b'Download:', b'547.92', b'Mbit/s', b'Upload:', b'389.75', b'Mbit/s', '2024-09-11 21:59:32']\n",
      "Test number 3\n",
      "[b'Ping:', b'7.549', b'ms', b'Download:', b'304.25', b'Mbit/s', b'Upload:', b'289.81', b'Mbit/s', '2024-09-11 22:00:10']\n",
      "Test number 4\n",
      "['2024-09-11 22:00:29']\n"
     ]
    }
   ],
   "source": [
    "# Code cell 16\n",
    "for i in range(5):\n",
    "    speedtest_output = speedtest()\n",
    "    print('Test number {}'.format(i))\n",
    "    print(speedtest_output)\n",
    "    save_to_csv(speedtest_output, './tmp/rpi_data_test')\n",
    "    "
   ]
  },
  {
   "cell_type": "markdown",
   "metadata": {},
   "source": [
    "b) Display the file to verify that the data has been saved correctly."
   ]
  },
  {
   "cell_type": "code",
   "execution_count": 17,
   "metadata": {},
   "outputs": [
    {
     "name": "stdout",
     "output_type": "stream",
     "text": [
      "[\"b'Ping:'\", \"b'13.045'\", \"b'ms'\", \"b'Download:'\", \"b'5.61'\", \"b'Mbit/s'\", \"b'Upload:'\", \"b'2.30'\", \"b'Mbit/s'\", '2017-07-07 11:37:00']\n",
      "[]\n",
      "[\"b'Ping:'\", \"b'34.637'\", \"b'ms'\", \"b'Download:'\", \"b'5.45'\", \"b'Mbit/s'\", \"b'Upload:'\", \"b'1.25'\", \"b'Mbit/s'\", '2017-07-07 11:37:26']\n",
      "[]\n",
      "[\"b'Ping:'\", \"b'13.103'\", \"b'ms'\", \"b'Download:'\", \"b'2.92'\", \"b'Mbit/s'\", \"b'Upload:'\", \"b'0.87'\", \"b'Mbit/s'\", '2017-07-07 11:37:59']\n",
      "[]\n",
      "[\"b'Ping:'\", \"b'15.088'\", \"b'ms'\", \"b'Download:'\", \"b'4.91'\", \"b'Mbit/s'\", \"b'Upload:'\", \"b'0.87'\", \"b'Mbit/s'\", '2017-07-07 11:38:33']\n",
      "[]\n",
      "[\"b'Ping:'\", \"b'26.148'\", \"b'ms'\", \"b'Download:'\", \"b'3.81'\", \"b'Mbit/s'\", \"b'Upload:'\", \"b'0.72'\", \"b'Mbit/s'\", '2017-07-07 11:39:15']\n",
      "[]\n",
      "[\"b'Ping:'\", \"b'11.996'\", \"b'ms'\", \"b'Download:'\", \"b'2.83'\", \"b'Mbit/s'\", \"b'Upload:'\", \"b'0.70'\", \"b'Mbit/s'\", '2017-07-07 17:31:16']\n",
      "[]\n",
      "[\"b'Ping:'\", \"b'18.365'\", \"b'ms'\", \"b'Download:'\", \"b'7.03'\", \"b'Mbit/s'\", \"b'Upload:'\", \"b'1.37'\", \"b'Mbit/s'\", '2017-07-07 17:32:00']\n",
      "[]\n",
      "[\"b'Ping:'\", \"b'14.503'\", \"b'ms'\", \"b'Download:'\", \"b'5.90'\", \"b'Mbit/s'\", \"b'Upload:'\", \"b'1.22'\", \"b'Mbit/s'\", '2017-07-07 17:32:35']\n",
      "[]\n",
      "[\"b'Ping:'\", \"b'15.939'\", \"b'ms'\", \"b'Download:'\", \"b'4.56'\", \"b'Mbit/s'\", \"b'Upload:'\", \"b'1.95'\", \"b'Mbit/s'\", '2017-07-07 17:33:07']\n",
      "[]\n",
      "[\"b'Ping:'\", \"b'12.202'\", \"b'ms'\", \"b'Download:'\", \"b'9.56'\", \"b'Mbit/s'\", \"b'Upload:'\", \"b'2.11'\", \"b'Mbit/s'\", '2017-07-07 17:33:45']\n",
      "[]\n",
      "[\"b'Ping:'\", \"b'42.454'\", \"b'ms'\", \"b'Download:'\", \"b'43.92'\", \"b'Mbit/s'\", \"b'Upload:'\", \"b'48.74'\", \"b'Mbit/s'\", '2017-09-06 12:57:37']\n",
      "[]\n",
      "[\"b'Ping:'\", \"b'41.788'\", \"b'ms'\", \"b'Download:'\", \"b'31.05'\", \"b'Mbit/s'\", \"b'Upload:'\", \"b'35.12'\", \"b'Mbit/s'\", '2017-09-06 12:57:57']\n",
      "[]\n",
      "[\"b'Ping:'\", \"b'43.324'\", \"b'ms'\", \"b'Download:'\", \"b'40.59'\", \"b'Mbit/s'\", \"b'Upload:'\", \"b'45.78'\", \"b'Mbit/s'\", '2017-09-06 12:58:19']\n",
      "[]\n",
      "[\"b'Ping:'\", \"b'42.174'\", \"b'ms'\", \"b'Download:'\", \"b'42.51'\", \"b'Mbit/s'\", \"b'Upload:'\", \"b'48.44'\", \"b'Mbit/s'\", '2017-09-06 12:58:40']\n",
      "[]\n",
      "[\"b'Ping:'\", \"b'43.387'\", \"b'ms'\", \"b'Download:'\", \"b'40.77'\", \"b'Mbit/s'\", \"b'Upload:'\", \"b'50.28'\", \"b'Mbit/s'\", '2017-09-06 12:59:00']\n",
      "[]\n",
      "[\"b'Ping:'\", \"b'20.17'\", \"b'ms'\", \"b'Download:'\", \"b'3.00'\", \"b'Mbit/s'\", \"b'Upload:'\", \"b'0.20'\", \"b'Mbit/s'\", '2017-09-07 17:54:01']\n",
      "[\"b'Ping:'\", \"b'27.281'\", \"b'ms'\", \"b'Download:'\", \"b'4.73'\", \"b'Mbit/s'\", \"b'Upload:'\", \"b'0.97'\", \"b'Mbit/s'\", '2017-09-07 17:54:46']\n",
      "[\"b'Ping:'\", \"b'24.086'\", \"b'ms'\", \"b'Download:'\", \"b'4.83'\", \"b'Mbit/s'\", \"b'Upload:'\", \"b'0.48'\", \"b'Mbit/s'\", '2017-09-07 17:55:28']\n",
      "[\"b'Ping:'\", \"b'21.594'\", \"b'ms'\", \"b'Download:'\", \"b'4.03'\", \"b'Mbit/s'\", \"b'Upload:'\", \"b'0.67'\", \"b'Mbit/s'\", '2017-09-07 17:56:03']\n",
      "[\"b'Ping:'\", \"b'22.573'\", \"b'ms'\", \"b'Download:'\", \"b'2.90'\", \"b'Mbit/s'\", \"b'Upload:'\", \"b'0.51'\", \"b'Mbit/s'\", '2017-09-07 17:56:37']\n",
      "[\"b'Ping:'\", \"b'21.763'\", \"b'ms'\", \"b'Download:'\", \"b'2.70'\", \"b'Mbit/s'\", \"b'Upload:'\", \"b'0.95'\", \"b'Mbit/s'\", '2017-09-07 18:00:48']\n",
      "[\"b'Ping:'\", \"b'20.683'\", \"b'ms'\", \"b'Download:'\", \"b'3.93'\", \"b'Mbit/s'\", \"b'Upload:'\", \"b'0.67'\", \"b'Mbit/s'\", '2017-09-07 18:01:23']\n",
      "[\"b'Ping:'\", \"b'21.532'\", \"b'ms'\", \"b'Download:'\", \"b'3.96'\", \"b'Mbit/s'\", \"b'Upload:'\", \"b'0.69'\", \"b'Mbit/s'\", '2017-09-07 18:02:01']\n",
      "[\"b'Ping:'\", \"b'22.31'\", \"b'ms'\", \"b'Download:'\", \"b'5.32'\", \"b'Mbit/s'\", \"b'Upload:'\", \"b'0.65'\", \"b'Mbit/s'\", '2017-09-07 18:02:36']\n",
      "[\"b'Ping:'\", \"b'23.915'\", \"b'ms'\", \"b'Download:'\", \"b'5.43'\", \"b'Mbit/s'\", \"b'Upload:'\", \"b'0.89'\", \"b'Mbit/s'\", '2017-09-07 18:03:05']\n",
      "[\"b'Ping:'\", \"b'20.523'\", \"b'ms'\", \"b'Download:'\", \"b'1.38'\", \"b'Mbit/s'\", \"b'Upload:'\", \"b'0.68'\", \"b'Mbit/s'\", '2017-09-08 09:00:26']\n",
      "[\"b'Ping:'\", \"b'23.155'\", \"b'ms'\", \"b'Download:'\", \"b'5.16'\", \"b'Mbit/s'\", \"b'Upload:'\", \"b'0.87'\", \"b'Mbit/s'\", '2017-09-08 09:01:05']\n",
      "[\"b'Ping:'\", \"b'21.355'\", \"b'ms'\", \"b'Download:'\", \"b'3.42'\", \"b'Mbit/s'\", \"b'Upload:'\", \"b'0.86'\", \"b'Mbit/s'\", '2017-09-08 09:01:32']\n",
      "[\"b'Ping:'\", \"b'21.212'\", \"b'ms'\", \"b'Download:'\", \"b'3.16'\", \"b'Mbit/s'\", \"b'Upload:'\", \"b'0.69'\", \"b'Mbit/s'\", '2017-09-08 09:02:03']\n",
      "[\"b'Ping:'\", \"b'22.079'\", \"b'ms'\", \"b'Download:'\", \"b'2.23'\", \"b'Mbit/s'\", \"b'Upload:'\", \"b'0.68'\", \"b'Mbit/s'\", '2017-09-08 09:02:37']\n",
      "[\"b'Ping:'\", \"b'31.058'\", \"b'ms'\", \"b'Download:'\", \"b'3.91'\", \"b'Mbit/s'\", \"b'Upload:'\", \"b'0.94'\", \"b'Mbit/s'\", '2017-09-08 09:48:40']\n",
      "[\"b'Ping:'\", \"b'22.904'\", \"b'ms'\", \"b'Download:'\", \"b'2.18'\", \"b'Mbit/s'\", \"b'Upload:'\", \"b'0.67'\", \"b'Mbit/s'\", '2017-09-08 09:49:12']\n",
      "[\"b'Ping:'\", \"b'27.569'\", \"b'ms'\", \"b'Download:'\", \"b'3.14'\", \"b'Mbit/s'\", \"b'Upload:'\", \"b'0.65'\", \"b'Mbit/s'\", '2017-09-08 09:49:52']\n",
      "[\"b'Ping:'\", \"b'23.802'\", \"b'ms'\", \"b'Download:'\", \"b'6.56'\", \"b'Mbit/s'\", \"b'Upload:'\", \"b'0.72'\", \"b'Mbit/s'\", '2017-09-08 09:50:28']\n",
      "[\"b'Ping:'\", \"b'25.286'\", \"b'ms'\", \"b'Download:'\", \"b'4.33'\", \"b'Mbit/s'\", \"b'Upload:'\", \"b'0.64'\", \"b'Mbit/s'\", '2017-09-08 09:50:58']\n",
      "[\"b'Ping:'\", \"b'14.433'\", \"b'ms'\", \"b'Download:'\", \"b'303.61'\", \"b'Mbit/s'\", \"b'Upload:'\", \"b'292.66'\", \"b'Mbit/s'\", '2024-09-11 21:38:55']\n",
      "[]\n",
      "[\"b'Ping:'\", \"b'4.671'\", \"b'ms'\", \"b'Download:'\", \"b'275.68'\", \"b'Mbit/s'\", \"b'Upload:'\", \"b'330.78'\", \"b'Mbit/s'\", '2024-09-11 21:39:12']\n",
      "[]\n",
      "[\"b'Ping:'\", \"b'4.825'\", \"b'ms'\", \"b'Download:'\", \"b'294.24'\", \"b'Mbit/s'\", \"b'Upload:'\", \"b'305.49'\", \"b'Mbit/s'\", '2024-09-11 21:39:28']\n",
      "[]\n",
      "[\"b'Ping:'\", \"b'11.964'\", \"b'ms'\", \"b'Download:'\", \"b'273.94'\", \"b'Mbit/s'\", \"b'Upload:'\", \"b'296.69'\", \"b'Mbit/s'\", '2024-09-11 21:39:43']\n",
      "[]\n",
      "[\"b'Ping:'\", \"b'6.794'\", \"b'ms'\", \"b'Download:'\", \"b'303.65'\", \"b'Mbit/s'\", \"b'Upload:'\", \"b'305.60'\", \"b'Mbit/s'\", '2024-09-11 21:40:50']\n",
      "[]\n",
      "[\"b'Ping:'\", \"b'10.793'\", \"b'ms'\", \"b'Download:'\", \"b'295.77'\", \"b'Mbit/s'\", \"b'Upload:'\", \"b'291.18'\", \"b'Mbit/s'\", '2024-09-11 21:59:00']\n",
      "[]\n",
      "[\"b'Ping:'\", \"b'7.57'\", \"b'ms'\", \"b'Download:'\", \"b'542.22'\", \"b'Mbit/s'\", \"b'Upload:'\", \"b'314.58'\", \"b'Mbit/s'\", '2024-09-11 21:59:15']\n",
      "[]\n",
      "[\"b'Ping:'\", \"b'9.577'\", \"b'ms'\", \"b'Download:'\", \"b'547.92'\", \"b'Mbit/s'\", \"b'Upload:'\", \"b'389.75'\", \"b'Mbit/s'\", '2024-09-11 21:59:32']\n",
      "[]\n",
      "[\"b'Ping:'\", \"b'7.549'\", \"b'ms'\", \"b'Download:'\", \"b'304.25'\", \"b'Mbit/s'\", \"b'Upload:'\", \"b'289.81'\", \"b'Mbit/s'\", '2024-09-11 22:00:10']\n",
      "[]\n",
      "['2024-09-11 22:00:29']\n",
      "[]\n"
     ]
    }
   ],
   "source": [
    "# Code cell 17\n",
    "print_from_csv('./tmp/rpi_data_test')\n"
   ]
  },
  {
   "cell_type": "markdown",
   "metadata": {},
   "source": [
    "If a bigger dataset is needed, the speedtest can be running in the background for more samples.\n",
    "\n",
    "How would you change the code if you wanted to run the code 100 times?"
   ]
  },
  {
   "cell_type": "markdown",
   "metadata": {
    "collapsed": true,
    "jupyter": {
     "outputs_hidden": true
    }
   },
   "source": [
    "To modify the code to run the speed test 100 times, you just need to adjust the range(5) to range(100) in the loop. "
   ]
  },
  {
   "cell_type": "code",
   "execution_count": 18,
   "metadata": {},
   "outputs": [],
   "source": [
    "# Code cell 18\n",
    "# Code to run 100 times\n",
    "# for i in xrange(100):\n",
    "#     speedtest_output = speedtest()\n",
    "#     print 'Test number: {}'.format(i)\n",
    "#     print speedtest_output\n",
    "#     save_to_csv(speedtest_output, '/tmp/rpi_data')"
   ]
  },
  {
   "cell_type": "markdown",
   "metadata": {},
   "source": [
    "## Part 2: Manipulate Data"
   ]
  },
  {
   "cell_type": "markdown",
   "metadata": {},
   "source": [
    "The Python library `pandas` is very useful for working with structured data. The full documentation can be found here: http://pandas.pydata.org/pandas-docs/version/0.14.1/</font>\n",
    "\n",
    "A larger dataset collected in advance will be used for this part of the lab. The filename is `rpi_data_long.csv`.\n",
    "\n",
    "#### Step 1: Import the Python libraries.\n",
    "\n",
    "Import `pandas` and the other libraries used for the next tasks."
   ]
  },
  {
   "cell_type": "code",
   "execution_count": 19,
   "metadata": {},
   "outputs": [],
   "source": [
    "# Code cell 19\n",
    "import datetime\n",
    "import csv\n",
    "import pandas as pd\n",
    "# NumPy is a library that adds support for large, multi-dimensional arrays and matrices\n",
    "# along with high-level mathematical functions to operate on these arrays\n",
    "import numpy as np"
   ]
  },
  {
   "cell_type": "markdown",
   "metadata": {},
   "source": [
    "#### Step 2: Load the `csv` file into a `DataFrame` object using `pandas`.\n",
    "\n",
    "A `pandas DataFrame` is a 2-dimensional labeled data structure with columns of potentially different types. You can think of it like a spreadsheet or SQL table. The pandas library function `read_csv` automatically converts a `csv` file into a `DataFrame` object.\n",
    "\n",
    "Read the `read_csv` documentation in http://pandas.pydata.org/pandas-docs/version/0.14.1/generated/pandas.read_csv.html.\n",
    "This function contains a lot of parameters. The only non-optional one is the `filepath`, i.e. the location of the `csv` file. All the other parameters are optional.\n",
    "\n",
    "In this step, you will import and view the content of the csv file, `rpi_data_long.csv`. This csv file is located in the same directory as this Jupyter notebook."
   ]
  },
  {
   "cell_type": "markdown",
   "metadata": {},
   "source": [
    "a) Assign the file `rpi_data_long.csv` to the variable `data_file`."
   ]
  },
  {
   "cell_type": "code",
   "execution_count": 20,
   "metadata": {},
   "outputs": [],
   "source": [
    "# Code cell 20\n",
    "data_file = './Data/rpi_data_long.csv'"
   ]
  },
  {
   "cell_type": "markdown",
   "metadata": {},
   "source": [
    "b) Use the Linux command `head` to view the first 10 lines of the csv file."
   ]
  },
  {
   "cell_type": "code",
   "execution_count": 21,
   "metadata": {
    "scrolled": true
   },
   "outputs": [
    {
     "name": "stdout",
     "output_type": "stream",
     "text": [
      "['Ping:', '26.992', 'ms', 'Download:', '91.80', 'Mbit/s', 'Upload:', '14.31', 'Mbit/s', '2016-11-24 13:36:25']\n",
      "['Ping:', '24.532', 'ms', 'Download:', '88.19', 'Mbit/s', 'Upload:', '14.12', 'Mbit/s', '2016-11-24 13:36:55']\n",
      "['Ping:', '20.225', 'ms', 'Download:', '59.86', 'Mbit/s', 'Upload:', '14.11', 'Mbit/s', '2016-11-24 13:37:25']\n",
      "['Ping:', '19.332', 'ms', 'Download:', '91.81', 'Mbit/s', 'Upload:', '14.22', 'Mbit/s', '2016-11-24 13:37:57']\n",
      "['Ping:', '22.494', 'ms', 'Download:', '92.05', 'Mbit/s', 'Upload:', '14.08', 'Mbit/s', '2016-11-24 13:38:27']\n"
     ]
    }
   ],
   "source": [
    "# Code cell 21\n",
    "def print_first_n_lines(filename, n=5):\n",
    "    with open(filename, 'r') as file:\n",
    "        reader = csv.reader(file)\n",
    "        for i, row in enumerate(reader):\n",
    "            if i >= n:\n",
    "                break\n",
    "            print(row)\n",
    "\n",
    "# Call the function with your CSV file\n",
    "print_first_n_lines('./Data/rpi_data_long.csv', 5)"
   ]
  },
  {
   "cell_type": "markdown",
   "metadata": {},
   "source": [
    "c) Use the `names` parameter of the `read_csv` function to specify the name of the `DataFrame` columns."
   ]
  },
  {
   "cell_type": "code",
   "execution_count": 22,
   "metadata": {},
   "outputs": [],
   "source": [
    "# Code cell 22\n",
    "column_names = [ 'Type A', 'Measure A', 'Units A',\n",
    "                 'Type B', 'Measure B', 'Units B',\n",
    "                 'Type C', 'Measure C', 'Units C', \n",
    "                 'Datetime']"
   ]
  },
  {
   "cell_type": "markdown",
   "metadata": {},
   "source": [
    "d) Use the `read_csv` function to read from `data_file` and assign `column_names` as the column names in the dataframe."
   ]
  },
  {
   "cell_type": "code",
   "execution_count": 23,
   "metadata": {},
   "outputs": [],
   "source": [
    "# Code cell 23\n",
    "with open(data_file, 'r') as f:\n",
    "    df_redundant = pd.read_csv(f, names = column_names)"
   ]
  },
  {
   "cell_type": "markdown",
   "metadata": {},
   "source": [
    "e) The command `head()` displays the first few rows of the dataframe."
   ]
  },
  {
   "cell_type": "code",
   "execution_count": 24,
   "metadata": {},
   "outputs": [
    {
     "data": {
      "text/html": [
       "<div>\n",
       "<style scoped>\n",
       "    .dataframe tbody tr th:only-of-type {\n",
       "        vertical-align: middle;\n",
       "    }\n",
       "\n",
       "    .dataframe tbody tr th {\n",
       "        vertical-align: top;\n",
       "    }\n",
       "\n",
       "    .dataframe thead th {\n",
       "        text-align: right;\n",
       "    }\n",
       "</style>\n",
       "<table border=\"1\" class=\"dataframe\">\n",
       "  <thead>\n",
       "    <tr style=\"text-align: right;\">\n",
       "      <th></th>\n",
       "      <th>Type A</th>\n",
       "      <th>Measure A</th>\n",
       "      <th>Units A</th>\n",
       "      <th>Type B</th>\n",
       "      <th>Measure B</th>\n",
       "      <th>Units B</th>\n",
       "      <th>Type C</th>\n",
       "      <th>Measure C</th>\n",
       "      <th>Units C</th>\n",
       "      <th>Datetime</th>\n",
       "    </tr>\n",
       "  </thead>\n",
       "  <tbody>\n",
       "    <tr>\n",
       "      <th>0</th>\n",
       "      <td>Ping:</td>\n",
       "      <td>26.992</td>\n",
       "      <td>ms</td>\n",
       "      <td>Download:</td>\n",
       "      <td>91.80</td>\n",
       "      <td>Mbit/s</td>\n",
       "      <td>Upload:</td>\n",
       "      <td>14.31</td>\n",
       "      <td>Mbit/s</td>\n",
       "      <td>2016-11-24 13:36:25</td>\n",
       "    </tr>\n",
       "    <tr>\n",
       "      <th>1</th>\n",
       "      <td>Ping:</td>\n",
       "      <td>24.532</td>\n",
       "      <td>ms</td>\n",
       "      <td>Download:</td>\n",
       "      <td>88.19</td>\n",
       "      <td>Mbit/s</td>\n",
       "      <td>Upload:</td>\n",
       "      <td>14.12</td>\n",
       "      <td>Mbit/s</td>\n",
       "      <td>2016-11-24 13:36:55</td>\n",
       "    </tr>\n",
       "    <tr>\n",
       "      <th>2</th>\n",
       "      <td>Ping:</td>\n",
       "      <td>20.225</td>\n",
       "      <td>ms</td>\n",
       "      <td>Download:</td>\n",
       "      <td>59.86</td>\n",
       "      <td>Mbit/s</td>\n",
       "      <td>Upload:</td>\n",
       "      <td>14.11</td>\n",
       "      <td>Mbit/s</td>\n",
       "      <td>2016-11-24 13:37:25</td>\n",
       "    </tr>\n",
       "    <tr>\n",
       "      <th>3</th>\n",
       "      <td>Ping:</td>\n",
       "      <td>19.332</td>\n",
       "      <td>ms</td>\n",
       "      <td>Download:</td>\n",
       "      <td>91.81</td>\n",
       "      <td>Mbit/s</td>\n",
       "      <td>Upload:</td>\n",
       "      <td>14.22</td>\n",
       "      <td>Mbit/s</td>\n",
       "      <td>2016-11-24 13:37:57</td>\n",
       "    </tr>\n",
       "    <tr>\n",
       "      <th>4</th>\n",
       "      <td>Ping:</td>\n",
       "      <td>22.494</td>\n",
       "      <td>ms</td>\n",
       "      <td>Download:</td>\n",
       "      <td>92.05</td>\n",
       "      <td>Mbit/s</td>\n",
       "      <td>Upload:</td>\n",
       "      <td>14.08</td>\n",
       "      <td>Mbit/s</td>\n",
       "      <td>2016-11-24 13:38:27</td>\n",
       "    </tr>\n",
       "  </tbody>\n",
       "</table>\n",
       "</div>"
      ],
      "text/plain": [
       "  Type A Measure A Units A     Type B Measure B Units B   Type C  Measure C  \\\n",
       "0  Ping:    26.992      ms  Download:     91.80  Mbit/s  Upload:      14.31   \n",
       "1  Ping:    24.532      ms  Download:     88.19  Mbit/s  Upload:      14.12   \n",
       "2  Ping:    20.225      ms  Download:     59.86  Mbit/s  Upload:      14.11   \n",
       "3  Ping:    19.332      ms  Download:     91.81  Mbit/s  Upload:      14.22   \n",
       "4  Ping:    22.494      ms  Download:     92.05  Mbit/s  Upload:      14.08   \n",
       "\n",
       "  Units C             Datetime  \n",
       "0  Mbit/s  2016-11-24 13:36:25  \n",
       "1  Mbit/s  2016-11-24 13:36:55  \n",
       "2  Mbit/s  2016-11-24 13:37:25  \n",
       "3  Mbit/s  2016-11-24 13:37:57  \n",
       "4  Mbit/s  2016-11-24 13:38:27  "
      ]
     },
     "execution_count": 24,
     "metadata": {},
     "output_type": "execute_result"
    }
   ],
   "source": [
    "# Code cell 24\n",
    "# You can specify the number of rows you want to print to screen: \n",
    "# you do so passing the number as an argument to the function\n",
    "# (e.g., head(10))\n",
    "df_redundant.head()"
   ]
  },
  {
   "cell_type": "markdown",
   "metadata": {},
   "source": [
    "What is the code to read the first 20 lines of the csv file?"
   ]
  },
  {
   "cell_type": "markdown",
   "metadata": {},
   "source": [
    "df_redundant.head(20)"
   ]
  },
  {
   "cell_type": "markdown",
   "metadata": {},
   "source": [
    "#### Step 3: Create a concise representation.\n",
    "In this step, you will create a more compact representation using a copy of the data frame `df_redundant`."
   ]
  },
  {
   "cell_type": "markdown",
   "metadata": {},
   "source": [
    "a) Copy `df_redundant` into another dataframe called `df_compact` using `copy()`."
   ]
  },
  {
   "cell_type": "code",
   "execution_count": 25,
   "metadata": {},
   "outputs": [],
   "source": [
    "# Code cell 25\n",
    "df_compact = df_redundant.copy()"
   ]
  },
  {
   "cell_type": "markdown",
   "metadata": {},
   "source": [
    "b) Rename the columns relative to the measures as shown:\n",
    "\n",
    "    Measure A -> Ping (ms)\n",
    "    Measure B -> Download (Mbit/s)\n",
    "    Measure C -> Upload (Mbit/s)"
   ]
  },
  {
   "cell_type": "code",
   "execution_count": 26,
   "metadata": {
    "scrolled": true
   },
   "outputs": [
    {
     "data": {
      "text/html": [
       "<div>\n",
       "<style scoped>\n",
       "    .dataframe tbody tr th:only-of-type {\n",
       "        vertical-align: middle;\n",
       "    }\n",
       "\n",
       "    .dataframe tbody tr th {\n",
       "        vertical-align: top;\n",
       "    }\n",
       "\n",
       "    .dataframe thead th {\n",
       "        text-align: right;\n",
       "    }\n",
       "</style>\n",
       "<table border=\"1\" class=\"dataframe\">\n",
       "  <thead>\n",
       "    <tr style=\"text-align: right;\">\n",
       "      <th></th>\n",
       "      <th>Type A</th>\n",
       "      <th>Ping (ms)</th>\n",
       "      <th>Units A</th>\n",
       "      <th>Type B</th>\n",
       "      <th>Download (Mbit/s)</th>\n",
       "      <th>Units B</th>\n",
       "      <th>Type C</th>\n",
       "      <th>Upload (Mbit/s)</th>\n",
       "      <th>Units C</th>\n",
       "      <th>Datetime</th>\n",
       "    </tr>\n",
       "  </thead>\n",
       "  <tbody>\n",
       "    <tr>\n",
       "      <th>0</th>\n",
       "      <td>Ping:</td>\n",
       "      <td>26.992</td>\n",
       "      <td>ms</td>\n",
       "      <td>Download:</td>\n",
       "      <td>91.80</td>\n",
       "      <td>Mbit/s</td>\n",
       "      <td>Upload:</td>\n",
       "      <td>14.31</td>\n",
       "      <td>Mbit/s</td>\n",
       "      <td>2016-11-24 13:36:25</td>\n",
       "    </tr>\n",
       "    <tr>\n",
       "      <th>1</th>\n",
       "      <td>Ping:</td>\n",
       "      <td>24.532</td>\n",
       "      <td>ms</td>\n",
       "      <td>Download:</td>\n",
       "      <td>88.19</td>\n",
       "      <td>Mbit/s</td>\n",
       "      <td>Upload:</td>\n",
       "      <td>14.12</td>\n",
       "      <td>Mbit/s</td>\n",
       "      <td>2016-11-24 13:36:55</td>\n",
       "    </tr>\n",
       "    <tr>\n",
       "      <th>2</th>\n",
       "      <td>Ping:</td>\n",
       "      <td>20.225</td>\n",
       "      <td>ms</td>\n",
       "      <td>Download:</td>\n",
       "      <td>59.86</td>\n",
       "      <td>Mbit/s</td>\n",
       "      <td>Upload:</td>\n",
       "      <td>14.11</td>\n",
       "      <td>Mbit/s</td>\n",
       "      <td>2016-11-24 13:37:25</td>\n",
       "    </tr>\n",
       "  </tbody>\n",
       "</table>\n",
       "</div>"
      ],
      "text/plain": [
       "  Type A Ping (ms) Units A     Type B Download (Mbit/s) Units B   Type C  \\\n",
       "0  Ping:    26.992      ms  Download:             91.80  Mbit/s  Upload:   \n",
       "1  Ping:    24.532      ms  Download:             88.19  Mbit/s  Upload:   \n",
       "2  Ping:    20.225      ms  Download:             59.86  Mbit/s  Upload:   \n",
       "\n",
       "   Upload (Mbit/s) Units C             Datetime  \n",
       "0            14.31  Mbit/s  2016-11-24 13:36:25  \n",
       "1            14.12  Mbit/s  2016-11-24 13:36:55  \n",
       "2            14.11  Mbit/s  2016-11-24 13:37:25  "
      ]
     },
     "execution_count": 26,
     "metadata": {},
     "output_type": "execute_result"
    }
   ],
   "source": [
    "# Code cell 26\n",
    "df_compact.rename(columns={'Measure A':'Ping (ms)', \n",
    "                           'Measure B': 'Download (Mbit/s)',\n",
    "                           'Measure C': 'Upload (Mbit/s)'}, inplace=True)\n",
    "df_compact.head(3)"
   ]
  },
  {
   "cell_type": "markdown",
   "metadata": {},
   "source": [
    "c) Because the Types and Units columns are no longer necessary, these columns can be dropped."
   ]
  },
  {
   "cell_type": "code",
   "execution_count": 27,
   "metadata": {},
   "outputs": [
    {
     "data": {
      "text/html": [
       "<div>\n",
       "<style scoped>\n",
       "    .dataframe tbody tr th:only-of-type {\n",
       "        vertical-align: middle;\n",
       "    }\n",
       "\n",
       "    .dataframe tbody tr th {\n",
       "        vertical-align: top;\n",
       "    }\n",
       "\n",
       "    .dataframe thead th {\n",
       "        text-align: right;\n",
       "    }\n",
       "</style>\n",
       "<table border=\"1\" class=\"dataframe\">\n",
       "  <thead>\n",
       "    <tr style=\"text-align: right;\">\n",
       "      <th></th>\n",
       "      <th>Ping (ms)</th>\n",
       "      <th>Download (Mbit/s)</th>\n",
       "      <th>Upload (Mbit/s)</th>\n",
       "      <th>Datetime</th>\n",
       "    </tr>\n",
       "  </thead>\n",
       "  <tbody>\n",
       "    <tr>\n",
       "      <th>0</th>\n",
       "      <td>26.992</td>\n",
       "      <td>91.80</td>\n",
       "      <td>14.31</td>\n",
       "      <td>2016-11-24 13:36:25</td>\n",
       "    </tr>\n",
       "    <tr>\n",
       "      <th>1</th>\n",
       "      <td>24.532</td>\n",
       "      <td>88.19</td>\n",
       "      <td>14.12</td>\n",
       "      <td>2016-11-24 13:36:55</td>\n",
       "    </tr>\n",
       "    <tr>\n",
       "      <th>2</th>\n",
       "      <td>20.225</td>\n",
       "      <td>59.86</td>\n",
       "      <td>14.11</td>\n",
       "      <td>2016-11-24 13:37:25</td>\n",
       "    </tr>\n",
       "    <tr>\n",
       "      <th>3</th>\n",
       "      <td>19.332</td>\n",
       "      <td>91.81</td>\n",
       "      <td>14.22</td>\n",
       "      <td>2016-11-24 13:37:57</td>\n",
       "    </tr>\n",
       "    <tr>\n",
       "      <th>4</th>\n",
       "      <td>22.494</td>\n",
       "      <td>92.05</td>\n",
       "      <td>14.08</td>\n",
       "      <td>2016-11-24 13:38:27</td>\n",
       "    </tr>\n",
       "  </tbody>\n",
       "</table>\n",
       "</div>"
      ],
      "text/plain": [
       "  Ping (ms) Download (Mbit/s)  Upload (Mbit/s)             Datetime\n",
       "0    26.992             91.80            14.31  2016-11-24 13:36:25\n",
       "1    24.532             88.19            14.12  2016-11-24 13:36:55\n",
       "2    20.225             59.86            14.11  2016-11-24 13:37:25\n",
       "3    19.332             91.81            14.22  2016-11-24 13:37:57\n",
       "4    22.494             92.05            14.08  2016-11-24 13:38:27"
      ]
     },
     "execution_count": 27,
     "metadata": {},
     "output_type": "execute_result"
    }
   ],
   "source": [
    "# Code cell 27\n",
    "df_compact.drop(['Type A', 'Type B', 'Type C',\n",
    "         'Units A', 'Units B', 'Units C'], axis=1, inplace=True)\n",
    "df_compact.head()"
   ]
  },
  {
   "cell_type": "markdown",
   "metadata": {},
   "source": [
    "In the table above, the `Datetime` field is a string. Pandas and Python offer a number of operations to work with date and time that can be very helpful.\n",
    "\n",
    "In the next step, the string in the `Datetime` column will be separated into two new columns.\n",
    "\n",
    "#### Step 4: Separate data into two columns.\n",
    "In this step, you will use Pandas to generate the columns `Date` and `Time` from the column `Datetime` and then drop the `Datetime` column.\n",
    "<p>The `lambda` function is used create two anonymous functions that extract only the date and the time from a `datetime` object, respectively. Then, use the `pandas` function `apply` to apply this function to an entire column (in practice, `apply` implicitly defines a `for` loop and passes the rows one by one to our `lambda` function). Store the result of the `apply` functions in two new columns of the `DataFrame`."
   ]
  },
  {
   "cell_type": "markdown",
   "metadata": {},
   "source": [
    "a) Apply the `lambda` function to iterate through the data frame to split the date from the `Datetime` column."
   ]
  },
  {
   "cell_type": "code",
   "execution_count": 28,
   "metadata": {},
   "outputs": [],
   "source": [
    "# Code cell 28\n",
    "df_compact['Date'] = df_compact['Datetime'].apply(lambda dt_str: pd.to_datetime(dt_str).date())"
   ]
  },
  {
   "cell_type": "markdown",
   "metadata": {},
   "source": [
    "b) Repeat step a to split time from `Datetime` column. "
   ]
  },
  {
   "cell_type": "code",
   "execution_count": 29,
   "metadata": {},
   "outputs": [],
   "source": [
    "# Code cell 29\n",
    "# Please note, this requires an intermediate step, because of how NaT are treated by the time() function.\n",
    "# Reference: https://github.com/pandas-dev/pandas/issues/11453\n",
    "temp = df_compact['Datetime'].apply(lambda dt_str: pd.to_datetime(dt_str))\n",
    "df_compact['Time'] = temp.dt.time"
   ]
  },
  {
   "cell_type": "markdown",
   "metadata": {},
   "source": [
    "c) All the information for the `Datetime` column has now been copied to the `Date` and `Time` columnns. The `Datetime` column serves no purpose. The `Datetime` column can be dropped from the data frame.\n",
    "<p>Enter the code to drop the `Datetime` column in the cell below."
   ]
  },
  {
   "cell_type": "code",
   "execution_count": 30,
   "metadata": {},
   "outputs": [],
   "source": [
    "# Code cell 30\n",
    "df_compact = df_compact.drop(columns=['Datetime'])"
   ]
  },
  {
   "cell_type": "markdown",
   "metadata": {},
   "source": [
    "Enter the code to print out the first 3 rows of the data frame to verify the changes."
   ]
  },
  {
   "cell_type": "code",
   "execution_count": 31,
   "metadata": {},
   "outputs": [
    {
     "data": {
      "text/html": [
       "<div>\n",
       "<style scoped>\n",
       "    .dataframe tbody tr th:only-of-type {\n",
       "        vertical-align: middle;\n",
       "    }\n",
       "\n",
       "    .dataframe tbody tr th {\n",
       "        vertical-align: top;\n",
       "    }\n",
       "\n",
       "    .dataframe thead th {\n",
       "        text-align: right;\n",
       "    }\n",
       "</style>\n",
       "<table border=\"1\" class=\"dataframe\">\n",
       "  <thead>\n",
       "    <tr style=\"text-align: right;\">\n",
       "      <th></th>\n",
       "      <th>Ping (ms)</th>\n",
       "      <th>Download (Mbit/s)</th>\n",
       "      <th>Upload (Mbit/s)</th>\n",
       "      <th>Date</th>\n",
       "      <th>Time</th>\n",
       "    </tr>\n",
       "  </thead>\n",
       "  <tbody>\n",
       "    <tr>\n",
       "      <th>0</th>\n",
       "      <td>26.992</td>\n",
       "      <td>91.80</td>\n",
       "      <td>14.31</td>\n",
       "      <td>2016-11-24</td>\n",
       "      <td>13:36:25</td>\n",
       "    </tr>\n",
       "    <tr>\n",
       "      <th>1</th>\n",
       "      <td>24.532</td>\n",
       "      <td>88.19</td>\n",
       "      <td>14.12</td>\n",
       "      <td>2016-11-24</td>\n",
       "      <td>13:36:55</td>\n",
       "    </tr>\n",
       "    <tr>\n",
       "      <th>2</th>\n",
       "      <td>20.225</td>\n",
       "      <td>59.86</td>\n",
       "      <td>14.11</td>\n",
       "      <td>2016-11-24</td>\n",
       "      <td>13:37:25</td>\n",
       "    </tr>\n",
       "  </tbody>\n",
       "</table>\n",
       "</div>"
      ],
      "text/plain": [
       "  Ping (ms) Download (Mbit/s)  Upload (Mbit/s)        Date      Time\n",
       "0    26.992             91.80            14.31  2016-11-24  13:36:25\n",
       "1    24.532             88.19            14.12  2016-11-24  13:36:55\n",
       "2    20.225             59.86            14.11  2016-11-24  13:37:25"
      ]
     },
     "execution_count": 31,
     "metadata": {},
     "output_type": "execute_result"
    }
   ],
   "source": [
    "# Code cell 31\n",
    "df_compact.head(3)"
   ]
  },
  {
   "cell_type": "markdown",
   "metadata": {},
   "source": [
    "d) Use the `type` function to print out the variable type of the values in the `Date` and `Time` columns."
   ]
  },
  {
   "cell_type": "code",
   "execution_count": 32,
   "metadata": {},
   "outputs": [
    {
     "name": "stdout",
     "output_type": "stream",
     "text": [
      "2016-11-24 <class 'datetime.date'>\n",
      "13:36:25 <class 'datetime.time'>\n"
     ]
    }
   ],
   "source": [
    "# Code cell 32\n",
    "print(df_compact['Date'][0], type(df_compact['Date'][0]) )\n",
    "print(df_compact['Time'][0], type(df_compact['Time'][0]) )"
   ]
  },
  {
   "cell_type": "markdown",
   "metadata": {},
   "source": [
    "#### Step 5: Save the new data frame.\n",
    "Save the pandas dataframe `df_compact` as a csv file called `rpi_data_compact`:"
   ]
  },
  {
   "cell_type": "code",
   "execution_count": 33,
   "metadata": {},
   "outputs": [],
   "source": [
    "# Code cell 33\n",
    "df_compact.to_csv('./Data/rpi_data_compact.csv')"
   ]
  },
  {
   "cell_type": "markdown",
   "metadata": {},
   "source": [
    "<font size='0.5'>&copy; 2017 Cisco and/or its affiliates. All rights reserved. This document is Cisco Public.<font>"
   ]
  }
 ],
 "metadata": {
  "anaconda-cloud": {},
  "kernelspec": {
   "display_name": "Python 3 (ipykernel)",
   "language": "python",
   "name": "python3"
  },
  "language_info": {
   "codemirror_mode": {
    "name": "ipython",
    "version": 3
   },
   "file_extension": ".py",
   "mimetype": "text/x-python",
   "name": "python",
   "nbconvert_exporter": "python",
   "pygments_lexer": "ipython3",
   "version": "3.10.7"
  }
 },
 "nbformat": 4,
 "nbformat_minor": 4
}
